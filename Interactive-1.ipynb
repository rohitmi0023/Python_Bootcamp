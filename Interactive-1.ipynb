{
 "cells": [
  {
   "cell_type": "code",
   "execution_count": null,
   "id": "1bafd367-912a-4f33-8c86-05d7de680a29",
   "metadata": {},
   "outputs": [],
   "source": [
    "# Q7. Context Manager\n",
    "# create a context manager Timer() that:\n",
    "# a. on enter, notes the current time, b. on exit, prints total elapsed time in seconds.\n",
    "# Use it around a time-consuming loop to show output\n",
    "import time\n",
    "\n",
    "def Timer():\n",
    "    print(time.time)"
   ]
  },
  {
   "cell_type": "code",
   "execution_count": null,
   "id": "d6ce7948-82d6-42db-a098-9dd6dff60d59",
   "metadata": {},
   "outputs": [
    {
     "name": "stdout",
     "output_type": "stream",
     "text": [
      "<built-in function time>\n"
     ]
    }
   ],
   "source": [
    "# Q7. Context Manager\n",
    "# create a context manager Timer() that:\n",
    "# a. on enter, notes the current time, b. on exit, prints total elapsed time in seconds.\n",
    "# Use it around a time-consuming loop to show output\n",
    "import time\n",
    "\n",
    "def Timer():\n",
    "    print(time.time)\n",
    "\n",
    "Timer()"
   ]
  },
  {
   "cell_type": "code",
   "execution_count": null,
   "id": "3075cec6-3d32-49b4-80b4-650b84c0043e",
   "metadata": {},
   "outputs": [
    {
     "name": "stdout",
     "output_type": "stream",
     "text": [
      "<built-in function time>\n"
     ]
    }
   ],
   "source": [
    "# Q7. Context Manager\n",
    "# create a context manager Timer() that:\n",
    "# a. on enter, notes the current time, b. on exit, prints total elapsed time in seconds.\n",
    "# Use it around a time-consuming loop to show output\n",
    "import time\n",
    "\n",
    "def Timer():\n",
    "    print(time.time)\n",
    "\n",
    "Timer()"
   ]
  },
  {
   "cell_type": "code",
   "execution_count": null,
   "id": "062206ee-1a2a-4dbe-807e-6af9cbd12b46",
   "metadata": {},
   "outputs": [
    {
     "name": "stdout",
     "output_type": "stream",
     "text": [
      "1754040923.042787\n"
     ]
    }
   ],
   "source": [
    "# Q7. Context Manager\n",
    "# create a context manager Timer() that:\n",
    "# a. on enter, notes the current time, b. on exit, prints total elapsed time in seconds.\n",
    "# Use it around a time-consuming loop to show output\n",
    "import time\n",
    "\n",
    "def Timer():\n",
    "    print(time.time())\n",
    "\n",
    "Timer()"
   ]
  },
  {
   "cell_type": "code",
   "execution_count": null,
   "id": "1a424add-8fc5-47a9-89d6-5a69af92bee6",
   "metadata": {},
   "outputs": [
    {
     "name": "stdout",
     "output_type": "stream",
     "text": [
      "1754040944.0411339\n",
      "1754040946.0419388\n"
     ]
    }
   ],
   "source": [
    "# Q7. Context Manager\n",
    "# create a context manager Timer() that:\n",
    "# a. on enter, notes the current time, b. on exit, prints total elapsed time in seconds.\n",
    "# Use it around a time-consuming loop to show output\n",
    "import time\n",
    "\n",
    "def Timer():\n",
    "    print(time.time())\n",
    "    time.sleep(2)\n",
    "    print(time.time())\n",
    "\n",
    "Timer()"
   ]
  },
  {
   "cell_type": "code",
   "execution_count": null,
   "id": "59e36696-6201-4e6f-ae1e-e42b7a325917",
   "metadata": {},
   "outputs": [
    {
     "ename": "SyntaxError",
     "evalue": "unmatched ')' (<ipython-input-6-366b05abb9bb>, line 9)",
     "output_type": "error",
     "traceback": [
      "  \u001b[36mCell\u001b[39m\u001b[36m \u001b[39m\u001b[32mIn[6]\u001b[39m\u001b[32m, line 9\u001b[39m\n\u001b[31m    \u001b[39m\u001b[31mcurr_time = time.time())\u001b[39m\n                           ^\n\u001b[31mSyntaxError\u001b[39m\u001b[31m:\u001b[39m unmatched ')'\n"
     ]
    }
   ],
   "source": [
    "# Q7. Context Manager\n",
    "# create a context manager Timer() that:\n",
    "# a. on enter, notes the current time, b. on exit, prints total elapsed time in seconds.\n",
    "# Use it around a time-consuming loop to show output\n",
    "import time\n",
    "\n",
    "def Timer():\n",
    "    curr_time = time.time())\n",
    "    time.sleep(2)\n",
    "    exit_time = time.time()\n",
    "    print(abs(exit_time-curr_time))\n",
    "\n",
    "Timer()"
   ]
  },
  {
   "cell_type": "code",
   "execution_count": null,
   "id": "a50f5d29-86e6-4e60-8f3c-c9f2f34e477e",
   "metadata": {},
   "outputs": [
    {
     "name": "stdout",
     "output_type": "stream",
     "text": [
      "2.0006375312805176\n"
     ]
    }
   ],
   "source": [
    "# Q7. Context Manager\n",
    "# create a context manager Timer() that:\n",
    "# a. on enter, notes the current time, b. on exit, prints total elapsed time in seconds.\n",
    "# Use it around a time-consuming loop to show output\n",
    "import time\n",
    "\n",
    "def Timer():\n",
    "    curr_time = time.time()\n",
    "    time.sleep(2)\n",
    "    exit_time = time.time()\n",
    "    print(abs(exit_time-curr_time))\n",
    "\n",
    "Timer()"
   ]
  },
  {
   "cell_type": "code",
   "execution_count": null,
   "id": "6fe572f2-f9ca-40b1-ab39-92eb2161e2b6",
   "metadata": {},
   "outputs": [
    {
     "name": "stdout",
     "output_type": "stream",
     "text": [
      "Time Spent in this function: 2\n"
     ]
    }
   ],
   "source": [
    "# Q7. Context Manager\n",
    "# create a context manager Timer() that:\n",
    "# a. on enter, notes the current time, b. on exit, prints total elapsed time in seconds.\n",
    "# Use it around a time-consuming loop to show output\n",
    "import time\n",
    "\n",
    "def Timer():\n",
    "    curr_time = time.time()\n",
    "    time.sleep(2)\n",
    "    print(f'Time Spent in this function: {round(abs(time.time()-curr_time))}')\n",
    "\n",
    "Timer()"
   ]
  },
  {
   "cell_type": "code",
   "execution_count": null,
   "id": "8cdeb473-9eae-46b3-a59f-75a62b774c2a",
   "metadata": {},
   "outputs": [],
   "source": [
    "# SECTION 4: DATA MANIPULATION \n",
    "# Q8: Pandas + Transformation\n",
    "# from a user activity csv file, write a script that:\n",
    "# a. Reads the file into a dataframe\n",
    "import pandas as pd\n",
    "\n",
    "path = 'user_activity.csv'\n",
    "df = pd.read_csv(path)"
   ]
  },
  {
   "cell_type": "code",
   "execution_count": null,
   "metadata": {},
   "outputs": [
    {
     "ename": "NameError",
     "evalue": "name 'dg' is not defined",
     "output_type": "error",
     "traceback": [
      "\u001b[31m---------------------------------------------------------------------------\u001b[39m",
      "\u001b[31mNameError\u001b[39m                                 Traceback (most recent call last)",
      "\u001b[36mCell\u001b[39m\u001b[36m \u001b[39m\u001b[32mIn[10]\u001b[39m\u001b[32m, line 1\u001b[39m\n\u001b[32m----> \u001b[39m\u001b[32m1\u001b[39m \u001b[43mdg\u001b[49m\n",
      "\u001b[31mNameError\u001b[39m: name 'dg' is not defined"
     ]
    }
   ],
   "source": [
    "dg"
   ]
  },
  {
   "cell_type": "code",
   "execution_count": null,
   "metadata": {},
   "outputs": [
    {
     "data": {
      "application/vnd.microsoft.datawrangler.viewer.v0+json": {
       "columns": [
        {
         "name": "index",
         "rawType": "int64",
         "type": "integer"
        },
        {
         "name": "user_id",
         "rawType": "int64",
         "type": "integer"
        },
        {
         "name": "event",
         "rawType": "object",
         "type": "string"
        },
        {
         "name": "timestamp",
         "rawType": "object",
         "type": "string"
        }
       ],
       "ref": "5a9219e0-9a84-4d97-91d6-6c5ea9323286",
       "rows": [
        [
         "0",
         "1",
         "login",
         "2024-01-01 09:00"
        ],
        [
         "1",
         "1",
         "click",
         "2024-01-01 09:05"
        ],
        [
         "2",
         "2",
         "login",
         "2024-01-01 09:30"
        ]
       ],
       "shape": {
        "columns": 3,
        "rows": 3
       }
      },
      "text/html": [
       "<div>\n",
       "<style scoped>\n",
       "    .dataframe tbody tr th:only-of-type {\n",
       "        vertical-align: middle;\n",
       "    }\n",
       "\n",
       "    .dataframe tbody tr th {\n",
       "        vertical-align: top;\n",
       "    }\n",
       "\n",
       "    .dataframe thead th {\n",
       "        text-align: right;\n",
       "    }\n",
       "</style>\n",
       "<table border=\"1\" class=\"dataframe\">\n",
       "  <thead>\n",
       "    <tr style=\"text-align: right;\">\n",
       "      <th></th>\n",
       "      <th>user_id</th>\n",
       "      <th>event</th>\n",
       "      <th>timestamp</th>\n",
       "    </tr>\n",
       "  </thead>\n",
       "  <tbody>\n",
       "    <tr>\n",
       "      <th>0</th>\n",
       "      <td>1</td>\n",
       "      <td>login</td>\n",
       "      <td>2024-01-01 09:00</td>\n",
       "    </tr>\n",
       "    <tr>\n",
       "      <th>1</th>\n",
       "      <td>1</td>\n",
       "      <td>click</td>\n",
       "      <td>2024-01-01 09:05</td>\n",
       "    </tr>\n",
       "    <tr>\n",
       "      <th>2</th>\n",
       "      <td>2</td>\n",
       "      <td>login</td>\n",
       "      <td>2024-01-01 09:30</td>\n",
       "    </tr>\n",
       "  </tbody>\n",
       "</table>\n",
       "</div>"
      ],
      "text/plain": [
       "   user_id  event         timestamp\n",
       "0        1  login  2024-01-01 09:00\n",
       "1        1  click  2024-01-01 09:05\n",
       "2        2  login  2024-01-01 09:30"
      ]
     },
     "execution_count": 11,
     "metadata": {},
     "output_type": "execute_result"
    }
   ],
   "source": [
    "df"
   ]
  },
  {
   "cell_type": "code",
   "execution_count": null,
   "id": "f07cc943-d2c8-4834-9281-3df46a68854e",
   "metadata": {},
   "outputs": [
    {
     "data": {
      "application/vnd.microsoft.datawrangler.viewer.v0+json": {
       "columns": [
        {
         "name": "index",
         "rawType": "object",
         "type": "string"
        },
        {
         "name": "0",
         "rawType": "object",
         "type": "unknown"
        }
       ],
       "ref": "13b05981-7c78-4b3d-b8d6-2b43bb6f726a",
       "rows": [
        [
         "user_id",
         "int64"
        ],
        [
         "event",
         "object"
        ],
        [
         "timestamp",
         "object"
        ]
       ],
       "shape": {
        "columns": 1,
        "rows": 3
       }
      },
      "text/plain": [
       "user_id       int64\n",
       "event        object\n",
       "timestamp    object\n",
       "dtype: object"
      ]
     },
     "execution_count": 12,
     "metadata": {},
     "output_type": "execute_result"
    }
   ],
   "source": [
    "# SECTION 4: DATA MANIPULATION \n",
    "# Q8: Pandas + Transformation\n",
    "# from a user activity csv file, write a script that:\n",
    "# a. Reads the file into a dataframe\n",
    "import pandas as pd\n",
    "\n",
    "path = 'user_activity.csv'\n",
    "df = pd.read_csv(path)\n",
    "df.dtypes"
   ]
  },
  {
   "cell_type": "code",
   "execution_count": null,
   "id": "5b76de02-f9c2-4efc-851d-7d60926b682d",
   "metadata": {},
   "outputs": [],
   "source": [
    "# SECTION 4: DATA MANIPULATION \n",
    "# Q8: Pandas + Transformation\n",
    "# from a user activity csv file, write a script that:\n",
    "# a. Reads the file into a dataframe\n",
    "import pandas as pd\n",
    "import datetime\n",
    "\n",
    "path = 'user_activity.csv'\n",
    "df = pd.read_csv(path)\n",
    "df.dtypes\n",
    "df['timestamp'] = pd.to_datetime(df['timestamp'])"
   ]
  },
  {
   "cell_type": "code",
   "execution_count": null,
   "metadata": {},
   "outputs": [
    {
     "data": {
      "application/vnd.microsoft.datawrangler.viewer.v0+json": {
       "columns": [
        {
         "name": "index",
         "rawType": "object",
         "type": "string"
        },
        {
         "name": "0",
         "rawType": "object",
         "type": "unknown"
        }
       ],
       "ref": "0ff7c27f-a75b-45d6-93fd-836d297151c0",
       "rows": [
        [
         "user_id",
         "int64"
        ],
        [
         "event",
         "object"
        ],
        [
         "timestamp",
         "datetime64[ns]"
        ]
       ],
       "shape": {
        "columns": 1,
        "rows": 3
       }
      },
      "text/plain": [
       "user_id               int64\n",
       "event                object\n",
       "timestamp    datetime64[ns]\n",
       "dtype: object"
      ]
     },
     "execution_count": 14,
     "metadata": {},
     "output_type": "execute_result"
    }
   ],
   "source": [
    "df.dtypes"
   ]
  },
  {
   "cell_type": "code",
   "execution_count": null,
   "metadata": {},
   "outputs": [
    {
     "data": {
      "application/vnd.microsoft.datawrangler.viewer.v0+json": {
       "columns": [
        {
         "name": "index",
         "rawType": "int64",
         "type": "integer"
        },
        {
         "name": "user_id",
         "rawType": "int64",
         "type": "integer"
        },
        {
         "name": "event",
         "rawType": "object",
         "type": "string"
        },
        {
         "name": "timestamp",
         "rawType": "datetime64[ns]",
         "type": "datetime"
        }
       ],
       "ref": "8f3caa3c-5579-454d-8aa7-dcdc3e977b8f",
       "rows": [
        [
         "0",
         "1",
         "login",
         "2024-01-01 09:00:00"
        ],
        [
         "1",
         "1",
         "click",
         "2024-01-01 09:05:00"
        ],
        [
         "2",
         "2",
         "login",
         "2024-01-01 09:30:00"
        ]
       ],
       "shape": {
        "columns": 3,
        "rows": 3
       }
      },
      "text/html": [
       "<div>\n",
       "<style scoped>\n",
       "    .dataframe tbody tr th:only-of-type {\n",
       "        vertical-align: middle;\n",
       "    }\n",
       "\n",
       "    .dataframe tbody tr th {\n",
       "        vertical-align: top;\n",
       "    }\n",
       "\n",
       "    .dataframe thead th {\n",
       "        text-align: right;\n",
       "    }\n",
       "</style>\n",
       "<table border=\"1\" class=\"dataframe\">\n",
       "  <thead>\n",
       "    <tr style=\"text-align: right;\">\n",
       "      <th></th>\n",
       "      <th>user_id</th>\n",
       "      <th>event</th>\n",
       "      <th>timestamp</th>\n",
       "    </tr>\n",
       "  </thead>\n",
       "  <tbody>\n",
       "    <tr>\n",
       "      <th>0</th>\n",
       "      <td>1</td>\n",
       "      <td>login</td>\n",
       "      <td>2024-01-01 09:00:00</td>\n",
       "    </tr>\n",
       "    <tr>\n",
       "      <th>1</th>\n",
       "      <td>1</td>\n",
       "      <td>click</td>\n",
       "      <td>2024-01-01 09:05:00</td>\n",
       "    </tr>\n",
       "    <tr>\n",
       "      <th>2</th>\n",
       "      <td>2</td>\n",
       "      <td>login</td>\n",
       "      <td>2024-01-01 09:30:00</td>\n",
       "    </tr>\n",
       "  </tbody>\n",
       "</table>\n",
       "</div>"
      ],
      "text/plain": [
       "   user_id  event           timestamp\n",
       "0        1  login 2024-01-01 09:00:00\n",
       "1        1  click 2024-01-01 09:05:00\n",
       "2        2  login 2024-01-01 09:30:00"
      ]
     },
     "execution_count": 15,
     "metadata": {},
     "output_type": "execute_result"
    }
   ],
   "source": [
    "df"
   ]
  },
  {
   "cell_type": "code",
   "execution_count": null,
   "id": "537389db-2ac3-4d09-b07a-3fdf7ff2bc82",
   "metadata": {},
   "outputs": [
    {
     "data": {
      "application/vnd.microsoft.datawrangler.viewer.v0+json": {
       "columns": [
        {
         "name": "index",
         "rawType": "int64",
         "type": "integer"
        }
       ],
       "ref": "f52a6c71-8ec6-4596-952b-bb5561f9318e",
       "rows": [
        [
         "0"
        ],
        [
         "1"
        ],
        [
         "2"
        ]
       ],
       "shape": {
        "columns": 0,
        "rows": 3
       }
      },
      "text/html": [
       "<div>\n",
       "<style scoped>\n",
       "    .dataframe tbody tr th:only-of-type {\n",
       "        vertical-align: middle;\n",
       "    }\n",
       "\n",
       "    .dataframe tbody tr th {\n",
       "        vertical-align: top;\n",
       "    }\n",
       "\n",
       "    .dataframe thead th {\n",
       "        text-align: right;\n",
       "    }\n",
       "</style>\n",
       "<table border=\"1\" class=\"dataframe\">\n",
       "  <thead>\n",
       "    <tr style=\"text-align: right;\">\n",
       "      <th></th>\n",
       "    </tr>\n",
       "  </thead>\n",
       "  <tbody>\n",
       "    <tr>\n",
       "      <th>0</th>\n",
       "    </tr>\n",
       "    <tr>\n",
       "      <th>1</th>\n",
       "    </tr>\n",
       "    <tr>\n",
       "      <th>2</th>\n",
       "    </tr>\n",
       "  </tbody>\n",
       "</table>\n",
       "</div>"
      ],
      "text/plain": [
       "Empty DataFrame\n",
       "Columns: []\n",
       "Index: [0, 1, 2]"
      ]
     },
     "execution_count": 16,
     "metadata": {},
     "output_type": "execute_result"
    }
   ],
   "source": [
    "# SECTION 4: DATA MANIPULATION \n",
    "# Q8: Pandas + Transformation\n",
    "# from a user activity csv file, write a script that:\n",
    "# a. Reads the file into a dataframe b. converts 'timestamp' into datetime c. Filters only login events\n",
    "import pandas as pd\n",
    "import datetime\n",
    "\n",
    "path = 'user_activity.csv'\n",
    "df = pd.read_csv(path)\n",
    "df['timestamp'] = pd.to_datetime(df['timestamp'])\n",
    "df.filter(df['event'] == 'login')"
   ]
  },
  {
   "cell_type": "code",
   "execution_count": null,
   "id": "0fe338ad-5fae-42ea-a4eb-6f2157b0f69c",
   "metadata": {},
   "outputs": [
    {
     "ename": "TypeError",
     "evalue": "Index(...) must be called with a collection of some kind, 'login' was passed",
     "output_type": "error",
     "traceback": [
      "\u001b[31m---------------------------------------------------------------------------\u001b[39m",
      "\u001b[31mTypeError\u001b[39m                                 Traceback (most recent call last)",
      "\u001b[36mCell\u001b[39m\u001b[36m \u001b[39m\u001b[32mIn[17]\u001b[39m\u001b[32m, line 12\u001b[39m\n\u001b[32m     10\u001b[39m df = pd.read_csv(path)\n\u001b[32m     11\u001b[39m df[\u001b[33m'\u001b[39m\u001b[33mtimestamp\u001b[39m\u001b[33m'\u001b[39m] = pd.to_datetime(df[\u001b[33m'\u001b[39m\u001b[33mtimestamp\u001b[39m\u001b[33m'\u001b[39m])\n\u001b[32m---> \u001b[39m\u001b[32m12\u001b[39m \u001b[43mdf\u001b[49m\u001b[43m[\u001b[49m\u001b[33;43m'\u001b[39;49m\u001b[33;43mevent\u001b[39;49m\u001b[33;43m'\u001b[39;49m\u001b[43m]\u001b[49m\u001b[43m.\u001b[49m\u001b[43mfilter\u001b[49m\u001b[43m(\u001b[49m\u001b[33;43m'\u001b[39;49m\u001b[33;43mlogin\u001b[39;49m\u001b[33;43m'\u001b[39;49m\u001b[43m)\u001b[49m\n",
      "\u001b[36mFile \u001b[39m\u001b[32me:\\Python Bootcamp\\.venv\\Lib\\site-packages\\pandas\\core\\generic.py:5812\u001b[39m, in \u001b[36mNDFrame.filter\u001b[39m\u001b[34m(self, items, like, regex, axis)\u001b[39m\n\u001b[32m   5810\u001b[39m \u001b[38;5;28;01mif\u001b[39;00m items \u001b[38;5;129;01mis\u001b[39;00m \u001b[38;5;129;01mnot\u001b[39;00m \u001b[38;5;28;01mNone\u001b[39;00m:\n\u001b[32m   5811\u001b[39m     name = \u001b[38;5;28mself\u001b[39m._get_axis_name(axis)\n\u001b[32m-> \u001b[39m\u001b[32m5812\u001b[39m     items = \u001b[43mIndex\u001b[49m\u001b[43m(\u001b[49m\u001b[43mitems\u001b[49m\u001b[43m)\u001b[49m.intersection(labels)\n\u001b[32m   5813\u001b[39m     \u001b[38;5;28;01mif\u001b[39;00m \u001b[38;5;28mlen\u001b[39m(items) == \u001b[32m0\u001b[39m:\n\u001b[32m   5814\u001b[39m         \u001b[38;5;66;03m# Keep the dtype of labels when we are empty\u001b[39;00m\n\u001b[32m   5815\u001b[39m         items = items.astype(labels.dtype)\n",
      "\u001b[36mFile \u001b[39m\u001b[32me:\\Python Bootcamp\\.venv\\Lib\\site-packages\\pandas\\core\\indexes\\base.py:527\u001b[39m, in \u001b[36mIndex.__new__\u001b[39m\u001b[34m(cls, data, dtype, copy, name, tupleize_cols)\u001b[39m\n\u001b[32m    524\u001b[39m         data = com.asarray_tuplesafe(data, dtype=_dtype_obj)\n\u001b[32m    526\u001b[39m \u001b[38;5;28;01melif\u001b[39;00m is_scalar(data):\n\u001b[32m--> \u001b[39m\u001b[32m527\u001b[39m     \u001b[38;5;28;01mraise\u001b[39;00m \u001b[38;5;28;43mcls\u001b[39;49m\u001b[43m.\u001b[49m\u001b[43m_raise_scalar_data_error\u001b[49m\u001b[43m(\u001b[49m\u001b[43mdata\u001b[49m\u001b[43m)\u001b[49m\n\u001b[32m    528\u001b[39m \u001b[38;5;28;01melif\u001b[39;00m \u001b[38;5;28mhasattr\u001b[39m(data, \u001b[33m\"\u001b[39m\u001b[33m__array__\u001b[39m\u001b[33m\"\u001b[39m):\n\u001b[32m    529\u001b[39m     \u001b[38;5;28;01mreturn\u001b[39;00m \u001b[38;5;28mcls\u001b[39m(np.asarray(data), dtype=dtype, copy=copy, name=name)\n",
      "\u001b[36mFile \u001b[39m\u001b[32me:\\Python Bootcamp\\.venv\\Lib\\site-packages\\pandas\\core\\indexes\\base.py:5299\u001b[39m, in \u001b[36mIndex._raise_scalar_data_error\u001b[39m\u001b[34m(cls, data)\u001b[39m\n\u001b[32m   5294\u001b[39m \u001b[38;5;129m@final\u001b[39m\n\u001b[32m   5295\u001b[39m \u001b[38;5;129m@classmethod\u001b[39m\n\u001b[32m   5296\u001b[39m \u001b[38;5;28;01mdef\u001b[39;00m\u001b[38;5;250m \u001b[39m\u001b[34m_raise_scalar_data_error\u001b[39m(\u001b[38;5;28mcls\u001b[39m, data):\n\u001b[32m   5297\u001b[39m     \u001b[38;5;66;03m# We return the TypeError so that we can raise it from the constructor\u001b[39;00m\n\u001b[32m   5298\u001b[39m     \u001b[38;5;66;03m#  in order to keep mypy happy\u001b[39;00m\n\u001b[32m-> \u001b[39m\u001b[32m5299\u001b[39m     \u001b[38;5;28;01mraise\u001b[39;00m \u001b[38;5;167;01mTypeError\u001b[39;00m(\n\u001b[32m   5300\u001b[39m         \u001b[33mf\u001b[39m\u001b[33m\"\u001b[39m\u001b[38;5;132;01m{\u001b[39;00m\u001b[38;5;28mcls\u001b[39m.\u001b[34m__name__\u001b[39m\u001b[38;5;132;01m}\u001b[39;00m\u001b[33m(...) must be called with a collection of some \u001b[39m\u001b[33m\"\u001b[39m\n\u001b[32m   5301\u001b[39m         \u001b[33mf\u001b[39m\u001b[33m\"\u001b[39m\u001b[33mkind, \u001b[39m\u001b[38;5;132;01m{\u001b[39;00m\u001b[38;5;28mrepr\u001b[39m(data)\u001b[38;5;250m \u001b[39m\u001b[38;5;28;01mif\u001b[39;00m\u001b[38;5;250m \u001b[39m\u001b[38;5;129;01mnot\u001b[39;00m\u001b[38;5;250m \u001b[39m\u001b[38;5;28misinstance\u001b[39m(data,\u001b[38;5;250m \u001b[39mnp.generic)\u001b[38;5;250m \u001b[39m\u001b[38;5;28;01melse\u001b[39;00m\u001b[38;5;250m \u001b[39m\u001b[38;5;28mstr\u001b[39m(data)\u001b[38;5;132;01m}\u001b[39;00m\u001b[33m \u001b[39m\u001b[33m\"\u001b[39m\n\u001b[32m   5302\u001b[39m         \u001b[33m\"\u001b[39m\u001b[33mwas passed\u001b[39m\u001b[33m\"\u001b[39m\n\u001b[32m   5303\u001b[39m     )\n",
      "\u001b[31mTypeError\u001b[39m: Index(...) must be called with a collection of some kind, 'login' was passed"
     ]
    }
   ],
   "source": [
    "# SECTION 4: DATA MANIPULATION \n",
    "# Q8: Pandas + Transformation\n",
    "# from a user activity csv file, write a script that:\n",
    "# a. Reads the file into a dataframe b. converts 'timestamp' into datetime c. Filters only login events\n",
    "import pandas as pd\n",
    "import datetime\n",
    "\n",
    "path = 'user_activity.csv'\n",
    "df = pd.read_csv(path)\n",
    "df['timestamp'] = pd.to_datetime(df['timestamp'])\n",
    "df['event'].filter('login')"
   ]
  },
  {
   "cell_type": "code",
   "execution_count": null,
   "id": "1736f8d0-e349-4e74-95b8-ce1fec86a42b",
   "metadata": {},
   "outputs": [
    {
     "data": {
      "application/vnd.microsoft.datawrangler.viewer.v0+json": {
       "columns": [
        {
         "name": "index",
         "rawType": "int64",
         "type": "integer"
        },
        {
         "name": "event",
         "rawType": "bool",
         "type": "boolean"
        }
       ],
       "ref": "58a4a9bb-aff1-4d2a-8eeb-c91359f06cb5",
       "rows": [
        [
         "0",
         "True"
        ],
        [
         "1",
         "False"
        ],
        [
         "2",
         "True"
        ]
       ],
       "shape": {
        "columns": 1,
        "rows": 3
       }
      },
      "text/plain": [
       "0     True\n",
       "1    False\n",
       "2     True\n",
       "Name: event, dtype: bool"
      ]
     },
     "execution_count": 18,
     "metadata": {},
     "output_type": "execute_result"
    }
   ],
   "source": [
    "# SECTION 4: DATA MANIPULATION \n",
    "# Q8: Pandas + Transformation\n",
    "# from a user activity csv file, write a script that:\n",
    "# a. Reads the file into a dataframe b. converts 'timestamp' into datetime c. Filters only login events\n",
    "import pandas as pd\n",
    "import datetime\n",
    "\n",
    "path = 'user_activity.csv'\n",
    "df = pd.read_csv(path)\n",
    "df['timestamp'] = pd.to_datetime(df['timestamp'])\n",
    "df['event'] == 'login'"
   ]
  },
  {
   "cell_type": "code",
   "execution_count": null,
   "id": "403222c9-00d6-4831-bf5b-95244205efbb",
   "metadata": {},
   "outputs": [
    {
     "data": {
      "application/vnd.microsoft.datawrangler.viewer.v0+json": {
       "columns": [
        {
         "name": "index",
         "rawType": "int64",
         "type": "integer"
        },
        {
         "name": "user_id",
         "rawType": "int64",
         "type": "integer"
        },
        {
         "name": "event",
         "rawType": "object",
         "type": "string"
        },
        {
         "name": "timestamp",
         "rawType": "datetime64[ns]",
         "type": "datetime"
        }
       ],
       "ref": "4c35afca-6aa6-4740-bc26-2ec5423376d4",
       "rows": [
        [
         "0",
         "1",
         "login",
         "2024-01-01 09:00:00"
        ],
        [
         "2",
         "2",
         "login",
         "2024-01-01 09:30:00"
        ]
       ],
       "shape": {
        "columns": 3,
        "rows": 2
       }
      },
      "text/html": [
       "<div>\n",
       "<style scoped>\n",
       "    .dataframe tbody tr th:only-of-type {\n",
       "        vertical-align: middle;\n",
       "    }\n",
       "\n",
       "    .dataframe tbody tr th {\n",
       "        vertical-align: top;\n",
       "    }\n",
       "\n",
       "    .dataframe thead th {\n",
       "        text-align: right;\n",
       "    }\n",
       "</style>\n",
       "<table border=\"1\" class=\"dataframe\">\n",
       "  <thead>\n",
       "    <tr style=\"text-align: right;\">\n",
       "      <th></th>\n",
       "      <th>user_id</th>\n",
       "      <th>event</th>\n",
       "      <th>timestamp</th>\n",
       "    </tr>\n",
       "  </thead>\n",
       "  <tbody>\n",
       "    <tr>\n",
       "      <th>0</th>\n",
       "      <td>1</td>\n",
       "      <td>login</td>\n",
       "      <td>2024-01-01 09:00:00</td>\n",
       "    </tr>\n",
       "    <tr>\n",
       "      <th>2</th>\n",
       "      <td>2</td>\n",
       "      <td>login</td>\n",
       "      <td>2024-01-01 09:30:00</td>\n",
       "    </tr>\n",
       "  </tbody>\n",
       "</table>\n",
       "</div>"
      ],
      "text/plain": [
       "   user_id  event           timestamp\n",
       "0        1  login 2024-01-01 09:00:00\n",
       "2        2  login 2024-01-01 09:30:00"
      ]
     },
     "execution_count": 19,
     "metadata": {},
     "output_type": "execute_result"
    }
   ],
   "source": [
    "# SECTION 4: DATA MANIPULATION \n",
    "# Q8: Pandas + Transformation\n",
    "# from a user activity csv file, write a script that:\n",
    "# a. Reads the file into a dataframe b. converts 'timestamp' into datetime c. Filters only login events\n",
    "import pandas as pd\n",
    "import datetime\n",
    "\n",
    "path = 'user_activity.csv'\n",
    "df = pd.read_csv(path)\n",
    "df['timestamp'] = pd.to_datetime(df['timestamp'])\n",
    "df[df['event'] == 'login']"
   ]
  },
  {
   "cell_type": "code",
   "execution_count": null,
   "id": "32c409a5-280d-4e69-af06-71d35f9eba90",
   "metadata": {},
   "outputs": [],
   "source": [
    "# SECTION 4: DATA MANIPULATION \n",
    "# Q8: Pandas + Transformation\n",
    "# from a user activity csv file, write a script that:\n",
    "# a. Reads the file into a dataframe b. converts 'timestamp' into datetime c. Filters only login events d. adds a column hour extracted from timestamp\n",
    "import pandas as pd\n",
    "import datetime\n",
    "\n",
    "path = 'user_activity.csv'\n",
    "df = pd.read_csv(path)\n",
    "df['timestamp'] = pd.to_datetime(df['timestamp'])\n",
    "df[df['event'] == 'login']\n",
    "df['hour'] = df['timestamp'].dt.hour"
   ]
  },
  {
   "cell_type": "code",
   "execution_count": null,
   "metadata": {},
   "outputs": [
    {
     "data": {
      "application/vnd.microsoft.datawrangler.viewer.v0+json": {
       "columns": [
        {
         "name": "index",
         "rawType": "int64",
         "type": "integer"
        },
        {
         "name": "user_id",
         "rawType": "int64",
         "type": "integer"
        },
        {
         "name": "event",
         "rawType": "object",
         "type": "string"
        },
        {
         "name": "timestamp",
         "rawType": "datetime64[ns]",
         "type": "datetime"
        },
        {
         "name": "hour",
         "rawType": "int32",
         "type": "integer"
        }
       ],
       "ref": "f6563604-2814-4011-b985-c1e095c1b13b",
       "rows": [
        [
         "0",
         "1",
         "login",
         "2024-01-01 09:00:00",
         "9"
        ],
        [
         "1",
         "1",
         "click",
         "2024-01-01 09:05:00",
         "9"
        ],
        [
         "2",
         "2",
         "login",
         "2024-01-01 09:30:00",
         "9"
        ]
       ],
       "shape": {
        "columns": 4,
        "rows": 3
       }
      },
      "text/html": [
       "<div>\n",
       "<style scoped>\n",
       "    .dataframe tbody tr th:only-of-type {\n",
       "        vertical-align: middle;\n",
       "    }\n",
       "\n",
       "    .dataframe tbody tr th {\n",
       "        vertical-align: top;\n",
       "    }\n",
       "\n",
       "    .dataframe thead th {\n",
       "        text-align: right;\n",
       "    }\n",
       "</style>\n",
       "<table border=\"1\" class=\"dataframe\">\n",
       "  <thead>\n",
       "    <tr style=\"text-align: right;\">\n",
       "      <th></th>\n",
       "      <th>user_id</th>\n",
       "      <th>event</th>\n",
       "      <th>timestamp</th>\n",
       "      <th>hour</th>\n",
       "    </tr>\n",
       "  </thead>\n",
       "  <tbody>\n",
       "    <tr>\n",
       "      <th>0</th>\n",
       "      <td>1</td>\n",
       "      <td>login</td>\n",
       "      <td>2024-01-01 09:00:00</td>\n",
       "      <td>9</td>\n",
       "    </tr>\n",
       "    <tr>\n",
       "      <th>1</th>\n",
       "      <td>1</td>\n",
       "      <td>click</td>\n",
       "      <td>2024-01-01 09:05:00</td>\n",
       "      <td>9</td>\n",
       "    </tr>\n",
       "    <tr>\n",
       "      <th>2</th>\n",
       "      <td>2</td>\n",
       "      <td>login</td>\n",
       "      <td>2024-01-01 09:30:00</td>\n",
       "      <td>9</td>\n",
       "    </tr>\n",
       "  </tbody>\n",
       "</table>\n",
       "</div>"
      ],
      "text/plain": [
       "   user_id  event           timestamp  hour\n",
       "0        1  login 2024-01-01 09:00:00     9\n",
       "1        1  click 2024-01-01 09:05:00     9\n",
       "2        2  login 2024-01-01 09:30:00     9"
      ]
     },
     "execution_count": 21,
     "metadata": {},
     "output_type": "execute_result"
    }
   ],
   "source": [
    "df"
   ]
  },
  {
   "cell_type": "code",
   "execution_count": null,
   "id": "a0bb3be0-820b-4e1d-95f9-8e833ebb3a5b",
   "metadata": {},
   "outputs": [],
   "source": [
    "# SECTION 4: DATA MANIPULATION \n",
    "# Q8: Pandas + Transformation\n",
    "# from a user activity csv file, write a script that:\n",
    "# a. Reads the file into a dataframe b. converts 'timestamp' into datetime c. Filters only login events d. adds a column hour extracted from timestamp\n",
    "import pandas as pd\n",
    "import datetime\n",
    "\n",
    "path = 'user_activity.csv'\n",
    "df = pd.read_csv(path)\n",
    "df['timestamp'] = pd.to_datetime(df['timestamp'])\n",
    "df = df[df['event'] == 'login']\n",
    "df['hour'] = df['timestamp'].dt.hour"
   ]
  },
  {
   "cell_type": "code",
   "execution_count": null,
   "metadata": {},
   "outputs": [
    {
     "data": {
      "application/vnd.microsoft.datawrangler.viewer.v0+json": {
       "columns": [
        {
         "name": "index",
         "rawType": "int64",
         "type": "integer"
        },
        {
         "name": "user_id",
         "rawType": "int64",
         "type": "integer"
        },
        {
         "name": "event",
         "rawType": "object",
         "type": "string"
        },
        {
         "name": "timestamp",
         "rawType": "datetime64[ns]",
         "type": "datetime"
        },
        {
         "name": "hour",
         "rawType": "int32",
         "type": "integer"
        }
       ],
       "ref": "d83aa198-c024-4c86-8c08-b0e099ee2161",
       "rows": [
        [
         "0",
         "1",
         "login",
         "2024-01-01 09:00:00",
         "9"
        ],
        [
         "2",
         "2",
         "login",
         "2024-01-01 09:30:00",
         "9"
        ]
       ],
       "shape": {
        "columns": 4,
        "rows": 2
       }
      },
      "text/html": [
       "<div>\n",
       "<style scoped>\n",
       "    .dataframe tbody tr th:only-of-type {\n",
       "        vertical-align: middle;\n",
       "    }\n",
       "\n",
       "    .dataframe tbody tr th {\n",
       "        vertical-align: top;\n",
       "    }\n",
       "\n",
       "    .dataframe thead th {\n",
       "        text-align: right;\n",
       "    }\n",
       "</style>\n",
       "<table border=\"1\" class=\"dataframe\">\n",
       "  <thead>\n",
       "    <tr style=\"text-align: right;\">\n",
       "      <th></th>\n",
       "      <th>user_id</th>\n",
       "      <th>event</th>\n",
       "      <th>timestamp</th>\n",
       "      <th>hour</th>\n",
       "    </tr>\n",
       "  </thead>\n",
       "  <tbody>\n",
       "    <tr>\n",
       "      <th>0</th>\n",
       "      <td>1</td>\n",
       "      <td>login</td>\n",
       "      <td>2024-01-01 09:00:00</td>\n",
       "      <td>9</td>\n",
       "    </tr>\n",
       "    <tr>\n",
       "      <th>2</th>\n",
       "      <td>2</td>\n",
       "      <td>login</td>\n",
       "      <td>2024-01-01 09:30:00</td>\n",
       "      <td>9</td>\n",
       "    </tr>\n",
       "  </tbody>\n",
       "</table>\n",
       "</div>"
      ],
      "text/plain": [
       "   user_id  event           timestamp  hour\n",
       "0        1  login 2024-01-01 09:00:00     9\n",
       "2        2  login 2024-01-01 09:30:00     9"
      ]
     },
     "execution_count": 23,
     "metadata": {},
     "output_type": "execute_result"
    }
   ],
   "source": [
    "df"
   ]
  },
  {
   "cell_type": "code",
   "execution_count": null,
   "id": "377ba10a-3977-4f3c-96c6-12d9db0f1fb9",
   "metadata": {},
   "outputs": [
    {
     "ename": "AttributeError",
     "evalue": "'builtin_function_or_method' object has no attribute 'append'",
     "output_type": "error",
     "traceback": [
      "\u001b[31m---------------------------------------------------------------------------\u001b[39m",
      "\u001b[31mAttributeError\u001b[39m                            Traceback (most recent call last)",
      "\u001b[36mCell\u001b[39m\u001b[36m \u001b[39m\u001b[32mIn[24]\u001b[39m\u001b[32m, line 24\u001b[39m\n\u001b[32m     22\u001b[39m lists = np.array\n\u001b[32m     23\u001b[39m \u001b[38;5;28;01mfor\u001b[39;00m i \u001b[38;5;129;01min\u001b[39;00m \u001b[38;5;28mrange\u001b[39m(\u001b[32m1_000_000\u001b[39m):\n\u001b[32m---> \u001b[39m\u001b[32m24\u001b[39m     \u001b[43mlists\u001b[49m\u001b[43m.\u001b[49m\u001b[43mappend\u001b[49m(i)\n",
      "\u001b[31mAttributeError\u001b[39m: 'builtin_function_or_method' object has no attribute 'append'"
     ]
    }
   ],
   "source": [
    "# SECTION 4: DATA MANIPULATION \n",
    "# Q8: Pandas + Transformation\n",
    "# from a user activity csv file, write a script that:\n",
    "# a. Reads the file into a dataframe b. converts 'timestamp' into datetime c. Filters only login events d. adds a column hour extracted from timestamp\n",
    "# Time Taken- 10mins\n",
    "\n",
    "import pandas as pd\n",
    "import datetime\n",
    "\n",
    "path = 'user_activity.csv'\n",
    "df = pd.read_csv(path)\n",
    "df['timestamp'] = pd.to_datetime(df['timestamp'])\n",
    "df = df[df['event'] == 'login']\n",
    "df['hour'] = df['timestamp'].dt.hour\n",
    "\n",
    "####################################\n",
    "# Q9. Numpy Performance Check\n",
    "# create a list of 1 miilion numbers \n",
    "\n",
    "import numpy as np\n",
    "lists = np.array\n",
    "for i in range(1_000_000):\n",
    "    lists.append(i)"
   ]
  },
  {
   "cell_type": "code",
   "execution_count": null,
   "id": "3ab18319-658e-47a7-a052-77e6d5161d8f",
   "metadata": {},
   "outputs": [],
   "source": [
    "# SECTION 4: DATA MANIPULATION \n",
    "# Q8: Pandas + Transformation\n",
    "# from a user activity csv file, write a script that:\n",
    "# a. Reads the file into a dataframe b. converts 'timestamp' into datetime c. Filters only login events d. adds a column hour extracted from timestamp\n",
    "# Time Taken- 10mins\n",
    "\n",
    "import pandas as pd\n",
    "import datetime\n",
    "\n",
    "path = 'user_activity.csv'\n",
    "df = pd.read_csv(path)\n",
    "df['timestamp'] = pd.to_datetime(df['timestamp'])\n",
    "df = df[df['event'] == 'login']\n",
    "df['hour'] = df['timestamp'].dt.hour\n",
    "\n",
    "####################################\n",
    "# Q9. Numpy Performance Check\n",
    "# create a list of 1 miilion numbers \n",
    "\n",
    "import numpy as np\n",
    "lists = []\n",
    "for i in range(1_000_000):\n",
    "    lists.append(i)"
   ]
  }
 ],
 "metadata": {
  "kernelspec": {
   "display_name": ".venv",
   "language": "python",
   "name": "python3"
  },
  "language_info": {
   "codemirror_mode": {
    "name": "ipython",
    "version": 3
   },
   "file_extension": ".py",
   "mimetype": "text/x-python",
   "name": "python",
   "nbconvert_exporter": "python",
   "pygments_lexer": "ipython3",
   "version": "3.13.4"
  }
 },
 "nbformat": 4,
 "nbformat_minor": 5
}
