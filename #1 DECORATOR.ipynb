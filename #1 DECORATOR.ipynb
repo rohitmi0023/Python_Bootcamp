{
 "cells": [
  {
   "cell_type": "code",
   "execution_count": null,
   "id": "69bfdcfb-e46f-42a9-b34b-acf043bb1307",
   "metadata": {},
   "outputs": [
    {
     "name": "stdout",
     "output_type": "stream",
     "text": [
      "[0, 1, 4]\n",
      "Hello\n",
      "<h1>Hello</h1>\n",
      "<h3>GM!</h3>\n"
     ]
    }
   ],
   "source": [
    "# DAY 1 - DECORATORS THAT DELIVER\n",
    "# CONCEPTS\n",
    "# %%\n",
    "# First Class Functions \n",
    "# Can treat functions as any other object\n",
    "def square(x):\n",
    "    return x**2\n",
    "\n",
    "f = square\n",
    "f2 = square(5)\n",
    "f3 = f(5) # treating the variable f as a function\n",
    "\n",
    "def map(func, arr): # function as an argument\n",
    "    res = []\n",
    "    for i in range(len(arr)):\n",
    "        res.append(func(i))\n",
    "    return res\n",
    "\n",
    "lists = [1, 2, 3]\n",
    "print(map(square, lists))\n",
    "\n",
    "\n",
    "def logger(msg): # returning funct from a function\n",
    "    def func():\n",
    "        return msg\n",
    "    return func\n",
    "\n",
    "log_hi = logger('Hello')\n",
    "print(log_hi())\n",
    "\n",
    "def header_tag(tag):\n",
    "    def text_fn(msg):\n",
    "        print(f'<{tag}>{msg}</{tag}>')\n",
    "    return text_fn\n",
    "\n",
    "header = header_tag('h1')\n",
    "header('Hello')\n",
    "\n",
    "header = header_tag('h3')\n",
    "header('GM!')"
   ]
  },
  {
   "cell_type": "code",
   "execution_count": null,
   "id": "e93f71fc-c7f0-4fce-a8fc-f46bf37bcdc6",
   "metadata": {},
   "outputs": [
    {
     "name": "stdout",
     "output_type": "stream",
     "text": [
      "[1, 2, 3]\n",
      "<class 'list'>\n",
      "1 2 3\n",
      "<class 'int'> <class 'int'> <class 'int'>\n",
      "[1, 2, 3]\n",
      "Tried 2 3 times\n",
      "Tried, 2, 3, times\n",
      "Tried 2, 3 times\n"
     ]
    }
   ],
   "source": [
    "# learning args and kwargs\n",
    "\n",
    "def func(arg1):\n",
    "    print(arg1)\n",
    "\n",
    "lists = [1,2,3]\n",
    "print(lists)\n",
    "print(type(lists))\n",
    "print(*lists)\n",
    "# print(type(*lists))\n",
    "print(*(type(item) for item in lists))\n",
    "func(lists)\n",
    "\n",
    "\n",
    "def tries(*args):\n",
    "    print('Tried', *args, 'times')\n",
    "    print('Tried', *args, 'times', sep=', ')\n",
    "    unpacked_args = ', '.join(str(arg) for arg in args)\n",
    "    print(f'Tried {unpacked_args} times')\n",
    "\n",
    "tries(2,3)\n",
    "\n",
    "# def outer(*args):\n",
    "#     tries(*args)\n",
    "\n",
    "# outer(2)"
   ]
  },
  {
   "cell_type": "code",
   "execution_count": null,
   "id": "28963544-2115-4301-a1ab-840420ea714e",
   "metadata": {},
   "outputs": [
    {
     "name": "stdout",
     "output_type": "stream",
     "text": [
      "Calling function add with postional arguments (1, 2)\n",
      "3\n"
     ]
    }
   ],
   "source": [
    "# Closures \n",
    "# an inner function that remembers and has access to variables in the local scope in which it was created even after outer function has been executed\n",
    "\n",
    "def outer():\n",
    "    msg = 'Hello from outer function'\n",
    "    def inner():\n",
    "        print(msg)\n",
    "    return inner\n",
    "\n",
    "# print(outer) # <function outer at 0x000001F08731A200>\n",
    "var = outer()\n",
    "# print(var) # <function outer.<locals>.inner at 0x000001F087318CC0>\n",
    "\n",
    "def logger(func):\n",
    "    def wrapper(*args):\n",
    "        print(f'Calling function {func.__name__} with postional arguments {args}')\n",
    "        return func(*args)\n",
    "    return wrapper\n",
    "\n",
    "def add(a,b):\n",
    "    return a+b\n",
    "\n",
    "add_logger = logger(add)\n",
    "# print(add_logger) # <function logger.<locals>.wrapper at 0x000001F0874AB4C0>\n",
    "print(add_logger(1,2)) # 3"
   ]
  },
  {
   "cell_type": "code",
   "execution_count": null,
   "id": "60d024ba-d099-43a4-a397-f3b976b83399",
   "metadata": {},
   "outputs": [
    {
     "name": "stdout",
     "output_type": "stream",
     "text": [
      "ran display function\n",
      "timer decorator running, function name: display\n",
      "duration is: 1.001011610031128\n",
      "Logging, function name: display\n"
     ]
    }
   ],
   "source": [
    "# Decorators\n",
    "# a function that takes another function as an argument, adds some functionality and returns another function\n",
    "# why -> allows us to add functionality to our existing function by adding our functionality inside of wrapper\n",
    "\n",
    "\n",
    "def decorator_function(original_function):\n",
    "    def wrapper():\n",
    "        print('From Wrapper Function')\n",
    "        original_function()\n",
    "    return wrapper\n",
    "\n",
    "class decorator_class(object):\n",
    "    def __init__(self, original_function):\n",
    "        self.original_function = original_function\n",
    "\n",
    "    def __call__(self, *args, **kwargs):\n",
    "        print('From Call method')\n",
    "        self.original_function()\n",
    "\n",
    "\n",
    "@decorator_function # display = decorator_function(display) # under the hood\n",
    "def display():\n",
    "    print('Display function ran!')\n",
    "\n",
    "# @decorator_class\n",
    "@decorator_function\n",
    "def display():\n",
    "    print('Display Function ran')\n",
    "\n",
    "\n",
    "\n",
    "from functools import wraps\n",
    "\n",
    "def timer(func):\n",
    "    import time\n",
    "\n",
    "    @wraps(func)\n",
    "    def wrapper():\n",
    "        st = time.time()\n",
    "        func()\n",
    "        print(f'timer decorator running, function name: {func.__name__}')\n",
    "        time.sleep(1)\n",
    "        et = time.time()\n",
    "        print(f'duration is: {et-st}')\n",
    "\n",
    "    return wrapper\n",
    "\n",
    "def logger(func):\n",
    "    @wraps(func)\n",
    "    def wrapper():\n",
    "        func()\n",
    "        print(f'Logging, function name: {func.__name__}')\n",
    "\n",
    "    return wrapper\n",
    "\n",
    "@logger\n",
    "@timer\n",
    "def display():\n",
    "    print('ran display function')\n",
    "\n",
    "\n",
    "# display = logger(timer(display))\n",
    "display()"
   ]
  },
  {
   "cell_type": "code",
   "execution_count": null,
   "id": "14fe6898-07c3-43bf-b965-1e600a9e9693",
   "metadata": {},
   "outputs": [
    {
     "name": "stdout",
     "output_type": "stream",
     "text": [
      "Hiii Rohit Mishra\n",
      "Hello K M\n"
     ]
    }
   ],
   "source": [
    "# Parameterized\n",
    "\n",
    "def para_deco(arg1, arg2):\n",
    "    def deco(func):\n",
    "        def wrapper(*args, **kwargs):\n",
    "            print(f'Hiii {arg1} {arg2}')\n",
    "            return func(*args, **kwargs)\n",
    "        return wrapper\n",
    "    return deco\n",
    "\n",
    "@para_deco('Rohit', 'Mishra')\n",
    "def say_hi(name, sirname):\n",
    "    print(f'Hello {name} {sirname}')\n",
    "\n",
    "say_hi('K', 'M') # param deco is called first then actual deco starts\n",
    "\n",
    "\n",
    "###### END -  CONCEPTS"
   ]
  },
  {
   "cell_type": "code",
   "execution_count": null,
   "id": "769cae14-f26d-4581-9502-edcf512da6ae",
   "metadata": {},
   "outputs": [
    {
     "name": "stdout",
     "output_type": "stream",
     "text": [
      "Uploaded Successfully as 0.21 is < 0.76!!!\n"
     ]
    }
   ],
   "source": [
    "# Q1. @retry(max_retries=3, delay=2) a. retries the wrapped function on exception b. logs retry count c. returns the original function's result\n",
    "\n",
    "import random\n",
    "from functools import wraps\n",
    "\n",
    "def retry(max_retries, delay):\n",
    "    def decorator(func):\n",
    "        @wraps(func)\n",
    "        def wrapper(*args,**kwargs):\n",
    "            for _ in range(max_retries):\n",
    "                try:\n",
    "                    return func(*args, **kwargs)\n",
    "                except:\n",
    "                    import time\n",
    "                    print(f'Retying number {_+1}')\n",
    "                    time.sleep(delay)\n",
    "        return wrapper\n",
    "    return decorator\n",
    "\n",
    "\n",
    "@retry(3, 2)\n",
    "def db_upload(value):\n",
    "    compared_value = round(random.random(),2)\n",
    "    if value < compared_value:\n",
    "        print(f'Uploaded Successfully as {value} is < {compared_value}!!!')\n",
    "    else:\n",
    "        print(f'Failed To Upload because {value} is >= {compared_value}!!')\n",
    "        raise Exception\n",
    "\n",
    "# db_upload = decorator(db_upload)\n",
    "db_upload(round(random.random(),2))"
   ]
  },
  {
   "cell_type": "code",
   "execution_count": null,
   "id": "06798d18-fbab-4313-8f74-b12099096c8b",
   "metadata": {},
   "outputs": [],
   "source": [
    "# Reflection Questions\n",
    "# Q1. What happens if the decorator doesn't return the wrapped function?\n",
    "# Ans. Then the wrapper function won't get executed which has the main function invoking code so the main function will also not get executed.\n",
    "\n",
    "# Q2. Why are *args and **kwargs necessary in decorators?\n",
    "# Ans. Decorators are flexible meaning they can run on top of any function with differenct number of arguments. So, to get all different number and types of arguments, we use *args and **kwargs.\n",
    "\n",
    "# Q3. What are the risks of hardcoding retries inside a decorator?\n",
    "# Ans. It reduces the flexibility of decorator, while when passed as an parameter, it can work differently for different main functions."
   ]
  }
 ],
 "metadata": {
  "language_info": {
   "codemirror_mode": {
    "name": "ipython",
    "version": 3
   },
   "file_extension": ".py",
   "mimetype": "text/x-python",
   "name": "python",
   "nbconvert_exporter": "python",
   "pygments_lexer": "ipython3",
   "version": 3
  }
 },
 "nbformat": 4,
 "nbformat_minor": 2
}
