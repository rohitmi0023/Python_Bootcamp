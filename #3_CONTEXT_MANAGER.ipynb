{
 "cells": [
  {
   "cell_type": "code",
   "execution_count": null,
   "id": "87f5f00a-fca4-4e48-bb3b-3dd8f7036b75",
   "metadata": {},
   "outputs": [],
   "source": [
    "# DAY 3 – CONTEXT MANAGERS THAT TIME AND PROTECT\n",
    "\n",
    "# Concepts:\n",
    "# 'with' statement allows you to take advantage of existing context managers to automatically handle the teardown, setup, etc whenever you are dealing with external resources\n",
    "\n",
    "# Context Management Protocol allows you to create your own customized operations on context managers\n",
    "\n",
    "# 'with' statement creates a runtime context that allows you to run a group of statements under the control of context manager\n",
    "# with open('ex.txt') as target_var:\n",
    "#     print('Hello')\n",
    "# expression(open()) must return an object that implements the context management protocol. This protocol consists of two special methods: a. __enter()__ b. __exit()__\n",
    "# %%\n",
    "# with open('users.json') as f:\n",
    "#     print(f.__enter__())\n",
    "#     f.__exit__()\n",
    "#     print('lets see')\n",
    "\n",
    "# x = with open('users.json') as f\n",
    "\n",
    "# print(x)"
   ]
  },
  {
   "cell_type": "code",
   "execution_count": null,
   "id": "0715bfeb-5f4d-4be6-b830-e927fbb3b1d2",
   "metadata": {},
   "outputs": [
    {
     "name": "stdout",
     "output_type": "stream",
     "text": [
      "userss.json\n",
      "Failed on userss.json due to [Errno 2] No such file or directory: 'userss.json'\n"
     ]
    }
   ],
   "source": [
    "import pathlib\n",
    "\n",
    "x = pathlib.Path('userss.json')\n",
    "print(x)\n",
    "\n",
    "try:\n",
    "    with x.open() as f:\n",
    "        print(f)\n",
    "except OSError as err:\n",
    "    print(f'Failed on {x} due to {err}')"
   ]
  },
  {
   "cell_type": "code",
   "execution_count": null,
   "id": "fe688e9a-ef76-43e2-8048-807232c40f63",
   "metadata": {},
   "outputs": [
    {
     "name": "stdout",
     "output_type": "stream",
     "text": [
      "Enter Method\n",
      "Ready to leave\n",
      "Leaving the context None None None\n"
     ]
    }
   ],
   "source": [
    "class HelloContextManager:\n",
    "    def __enter__(self):\n",
    "        return 'Enter Method'\n",
    "    def __exit__(self, exc_type, exc_value, exc_tb):\n",
    "        print(f'Leaving the context {exc_type} {exc_value} {exc_tb}')\n",
    "\n",
    "\n",
    "with HelloContextManager() as hello:\n",
    "    print(hello)\n",
    "    print('Ready to leave')"
   ]
  },
  {
   "cell_type": "code",
   "execution_count": null,
   "id": "61ab74d5-1cbd-4ad7-b34b-5b94150809ce",
   "metadata": {},
   "outputs": [
    {
     "name": "stdout",
     "output_type": "stream",
     "text": [
      "Enter Method\n",
      "Ready to leave\n",
      "exc type None\n",
      "exc value None\n",
      "exc tb None\n",
      "Leaving the context\n"
     ]
    }
   ],
   "source": [
    "class HelloContextManager:\n",
    "    def __enter__(self):\n",
    "        return 'Enter Method'\n",
    "    def __exit__(self, exc_type, exc_value, exc_tb):\n",
    "        print(f'exc type {exc_type}')\n",
    "        print(f'exc value {exc_value}')\n",
    "        print(f'exc tb {exc_tb}')\n",
    "        print(f'Leaving the context')\n",
    "\n",
    "\n",
    "with HelloContextManager() as hello:\n",
    "    print(hello)\n",
    "    # print(f'some error {hello[30]}')\n",
    "    print('Ready to leave')"
   ]
  },
  {
   "cell_type": "code",
   "execution_count": null,
   "id": "acd27765-5a0e-4847-b69c-a0811ee085e4",
   "metadata": {},
   "outputs": [
    {
     "name": "stdout",
     "output_type": "stream",
     "text": [
      "Entering the context\n",
      "Hello Context\n",
      "Exiting context\n",
      "Exception occured of type: 'IndexError'\n",
      "Exception Message: string index out of range\n",
      "next logics\n"
     ]
    }
   ],
   "source": [
    "class HelloContextManager:\n",
    "    def __enter__(self):\n",
    "        print('Entering the context')\n",
    "        return 'Hello Context'\n",
    "    \n",
    "    def __exit__(self, exc_type, exc_value, exc_tb):\n",
    "        print('Exiting context')\n",
    "        # return True\n",
    "        if isinstance(exc_value, IndexError):\n",
    "            print(f'Exception occured of type: {str(exc_type).split(' ')[1].rstrip('>')}')\n",
    "            print(f'Exception Message: {exc_value}')\n",
    "            return True\n",
    "        \n",
    "with HelloContextManager() as hello:\n",
    "    print(hello)\n",
    "    print(hello[100])\n",
    "    print(f'After exception raise')\n",
    "\n",
    "print('next logics')"
   ]
  },
  {
   "cell_type": "code",
   "execution_count": null,
   "id": "3d2cd5b0-bd8f-4c91-ab4c-e1f4fd7731e0",
   "metadata": {},
   "outputs": [
    {
     "name": "stdout",
     "output_type": "stream",
     "text": [
      "Repo that contains python code for improving Python Language\n",
      "\n"
     ]
    }
   ],
   "source": [
    "from pathlib import Path\n",
    "\n",
    "file_name = 'README.md'\n",
    "\n",
    "class readableFile():\n",
    "    def __init__(self, file_name):\n",
    "        self.file_name = file_name\n",
    "    \n",
    "    def __enter__(self):\n",
    "        self.file_obj = Path(file_name).open('r')\n",
    "        return self.file_obj\n",
    "    \n",
    "    def __enter__(self):\n",
    "        self.file_obj = open(file_name, 'r')\n",
    "        return self.file_obj\n",
    "\n",
    "\n",
    "    def __exit__(self, exc_type, exc_value, exc_tb):\n",
    "        if self.file_obj:\n",
    "            self.file_obj.close()\n",
    "\n",
    "with readableFile(file_name) as file:\n",
    "    print(file.read())"
   ]
  },
  {
   "cell_type": "code",
   "execution_count": null,
   "id": "ceb1b236-1334-44d7-8be9-efb872f58549",
   "metadata": {},
   "outputs": [
    {
     "name": "stdout",
     "output_type": "stream",
     "text": [
      "Back to standard output..\n"
     ]
    }
   ],
   "source": [
    "import sys\n",
    "\n",
    "class RedirectedStdout:\n",
    "    def __init__(self, new_output):\n",
    "        self.new_output = new_output\n",
    "\n",
    "    def __enter__(self):\n",
    "        self.saved_output = sys.stdout\n",
    "        sys.stdout = self.new_output\n",
    "        print(sys.stdout)\n",
    "        print(self.saved_output)\n",
    "    \n",
    "    def __exit__(self, *args, **kwargs):\n",
    "        sys.stdout = self.saved_output\n",
    "\n",
    "with open('hello.txt', 'w') as f:\n",
    "    with RedirectedStdout(f):\n",
    "        print('Hello')\n",
    "    print('Back to standard output..')"
   ]
  },
  {
   "cell_type": "code",
   "execution_count": null,
   "id": "b843cb70-aca7-4a24-9af8-e115d35da2de",
   "metadata": {},
   "outputs": [
    {
     "name": "stdout",
     "output_type": "stream",
     "text": [
      "Entering context!\n",
      "Hello World\n",
      "Leaving Context!\n"
     ]
    }
   ],
   "source": [
    "from contextlib import contextmanager\n",
    "\n",
    "@contextmanager\n",
    "def hello_context_manager():\n",
    "    print('Entering context!')\n",
    "    yield 'Hello World'\n",
    "    print('Leaving Context!')\n",
    "\n",
    "with hello_context_manager() as hello:\n",
    "    print(hello)"
   ]
  },
  {
   "cell_type": "code",
   "execution_count": null,
   "id": "bfc2bcf0-d89c-4b11-b16b-fcc07a081322",
   "metadata": {},
   "outputs": [],
   "source": [
    "from contextlib import contextmanager\n",
    "\n",
    "@contextmanager\n",
    "def writable_file(file_path):\n",
    "    file = open(file_path, mode='w')\n",
    "    try:\n",
    "        yield file\n",
    "    finally:\n",
    "        file.close()\n",
    "\n",
    "with writable_file('hello.txt') as f:\n",
    "    f.write('Hello')"
   ]
  },
  {
   "cell_type": "code",
   "execution_count": null,
   "id": "4eb3e2ee-061d-4ce9-b56b-33081260fe43",
   "metadata": {},
   "outputs": [
    {
     "name": "stdout",
     "output_type": "stream",
     "text": [
      "Class execution Total time taken: 2.00107741355896\n",
      "Contextmanager function Total time taken: 3.00065279006958\n"
     ]
    }
   ],
   "source": [
    "# Implement two versions of Timer: \n",
    "# a. class based: logs execution time of code block\n",
    "# b. @contextmanager-based: Wraps any ETL step\n",
    "import time\n",
    "from contextlib import contextmanager\n",
    "\n",
    "class Timer:\n",
    "    def __init__(self):\n",
    "        self.time = time\n",
    "        self.start = 0\n",
    "        self.end = 0\n",
    "\n",
    "    def __enter__(self):\n",
    "        self.start = time.time()\n",
    "\n",
    "    def __exit__(self, exc_type, exc_value, exc_tb):\n",
    "        self.end = time.time()\n",
    "        print(f'Class execution Total time taken: {self.end - self.start}')\n",
    "\n",
    "with Timer():\n",
    "    time.sleep(2)\n",
    "\n",
    "@contextmanager    \n",
    "def timer_func():\n",
    "    start = time.time()\n",
    "    yield \n",
    "    end = time.time()\n",
    "    print(f'Contextmanager function Total time taken: {end-start}')\n",
    "\n",
    "with timer_func():\n",
    "    time.sleep(3)"
   ]
  },
  {
   "cell_type": "code",
   "execution_count": null,
   "id": "8739c6ce-f019-4da7-9245-0660f2328d56",
   "metadata": {},
   "outputs": [],
   "source": [
    "# Reflecion Questions\n",
    "\n",
    "# Q1. What's the advantage of contextlib.contextmanager over class?\n",
    "# A. Easier to implement as we dont have to remember any of in-built methods\n",
    "\n",
    "# Q2. How do context managers enhance reliability in file/db operations?\n",
    "# A. during file/db operations, by using context manager we ensure that some code will get executed no matter what happens in the acutal such as closing out the file or db connections.\n",
    "\n",
    "# Q3. Where would you use context managers in a pipeline?\n",
    "# Handling files, performing set of code everytime before actual code and at the end of code. Handling some excpetions gracefully by returning True at the end method."
   ]
  }
 ],
 "metadata": {
  "language_info": {
   "codemirror_mode": {
    "name": "ipython",
    "version": 3
   },
   "file_extension": ".py",
   "mimetype": "text/x-python",
   "name": "python",
   "nbconvert_exporter": "python",
   "pygments_lexer": "ipython3",
   "version": 3
  }
 },
 "nbformat": 4,
 "nbformat_minor": 2
}
